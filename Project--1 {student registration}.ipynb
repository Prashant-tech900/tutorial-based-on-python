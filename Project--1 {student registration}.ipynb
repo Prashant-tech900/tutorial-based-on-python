{
 "cells": [
  {
   "cell_type": "code",
   "execution_count": null,
   "id": "119feb39",
   "metadata": {},
   "outputs": [
    {
     "name": "stdout",
     "output_type": "stream",
     "text": [
      "Welcome to Wscube Tech - E school: \n",
      "\n",
      "                   1. Student’s Admission\n",
      "                   2. Student’s Fee\n",
      "                   3. Principal Access\n",
      "                   4. Exit: ____\n",
      "                   1\n",
      "** Welcome to Student Admission **\n",
      "Student's name: prashu\n",
      "Student's father name: ram\n",
      "Student's mother name: rekha\n"
     ]
    }
   ],
   "source": [
    "while True:\n",
    "    print(\"Welcome to Wscube Tech - E school: \")\n",
    "    uc = int(input('''\n",
    "                   1. Student’s Admission\n",
    "                   2. Student’s Fee\n",
    "                   3. Principal Access\n",
    "                   4. Exit: ____\n",
    "                   '''))\n",
    "    if uc==1:\n",
    "                       print(\"** Welcome to Student Admission **\")\n",
    "                       st_name=input(\"Student's name: \")\n",
    "                       st_father_name=input(\"Student's father name: \")\n",
    "                       st_mother_name=input(\"Student's mother name: \")\n",
    "                       st_phone_no=input(\"Phone No.: \")\n",
    "                       st_add=input(\"Address.: \")\n",
    "                       st_card_no=int(input(\"Enter Card No: \"))\n",
    "                       st_class=int(input(\"Class: \"))\n",
    "                       print(\"Successfully Admission\")\n",
    "    elif uc==2:\n",
    "                           print(\"** Student Fee **\")\n",
    "                           st_name1=input(\"Student's name: \")\n",
    "                           st_card_no1=int(input(\"Enter Card No.: \"))\n",
    "                           if st_name==st_name1 and st_card_no==st_card_no1:\n",
    "                               print(st_name)\n",
    "                               print(st_card_no1)\n",
    "                               f=int(input(\"Enter fee Amount: \"))\n",
    "                               print(f)\n",
    "                               print(\"Successfully Fee Submitted\")\n",
    "                               \n",
    "    elif uc==3:\n",
    "                                   p=int(input(\"Enter principal access no.: \"))\n",
    "                                   print(\"** Principal Access **\")\n",
    "                                   p1=int(input(\"Enter principal access no.: \"))\n",
    "                                   st_card_no2=int(input(\"Enter Card No.: \"))\n",
    "                                   if p==p1 and st_card_no==st_card_no2:\n",
    "                                       print(st_name)\n",
    "                                       print(st_father_name)\n",
    "                                       print(st_mother_name)\n",
    "                                       print(st_phone_no)\n",
    "                                       print(st_add)\n",
    "                                       print(st_card_no)\n",
    "                                       print(st_class)\n",
    "    else:\n",
    "                                 break\n",
    "        "
   ]
  },
  {
   "cell_type": "code",
   "execution_count": null,
   "id": "899549ce",
   "metadata": {},
   "outputs": [],
   "source": []
  }
 ],
 "metadata": {
  "kernelspec": {
   "display_name": "Python 3 (ipykernel)",
   "language": "python",
   "name": "python3"
  },
  "language_info": {
   "codemirror_mode": {
    "name": "ipython",
    "version": 3
   },
   "file_extension": ".py",
   "mimetype": "text/x-python",
   "name": "python",
   "nbconvert_exporter": "python",
   "pygments_lexer": "ipython3",
   "version": "3.9.13"
  }
 },
 "nbformat": 4,
 "nbformat_minor": 5
}
