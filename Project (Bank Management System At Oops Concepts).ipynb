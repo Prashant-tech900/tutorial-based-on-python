{
 "cells": [
  {
   "cell_type": "code",
   "execution_count": null,
   "id": "dc89f2d1",
   "metadata": {},
   "outputs": [
    {
     "name": "stdout",
     "output_type": "stream",
     "text": [
      "Welcome to Aapna Bank\n",
      "\n",
      "    Press 1 to deposite balnce \n",
      "    Press 2 to withdraw balance \n",
      "    Press 3 to view balance\n",
      "    Press 4 to exit\n",
      "    1\n",
      "Enter the Amount You want to deposite:- 5300\n",
      "\n",
      "Amount deposite is  5300.0\n",
      "\n",
      "    Press 1 to deposite balnce \n",
      "    Press 2 to withdraw balance \n",
      "    Press 3 to view balance\n",
      "    Press 4 to exit\n",
      "    3\n",
      "the amount in your account is  5300.0\n"
     ]
    }
   ],
   "source": [
    "class Bank_account:\n",
    "    def __init__(self):\n",
    "        print(\"Welcome to Aapna Bank\")\n",
    "        self.balance = 0\n",
    "    def deposite_money(self):\n",
    "        amount = float(input(\"Enter the Amount You want to deposite:- \"))\n",
    "        self.balance += amount\n",
    "        print(\"\\nAmount deposite is \",amount)\n",
    "    def withdraw_money(self):\n",
    "        withdraw = float(input(\"Enter the Amount You wish to withdraw:- \"))\n",
    "        if withdraw < self.balance:\n",
    "            self.balance -= withdraw\n",
    "            print(\"\\nAmount withdraw is \",withdraw)\n",
    "        else :\n",
    "            print(\"\\nYou have insufficient balance\")\n",
    "    def view_balance(self):\n",
    "        print(\"the amount in your account is \",self.balance)\n",
    "a = Bank_account()\n",
    "\n",
    "while True:\n",
    "    choice = int(input('''\n",
    "    Press 1 to deposite balnce \n",
    "    Press 2 to withdraw balance \n",
    "    Press 3 to view balance\n",
    "    Press 4 to exit\n",
    "    '''))\n",
    "    if choice==1:\n",
    "        a.deposite_money()\n",
    "    elif choice==2:\n",
    "        a.withdraw_money()\n",
    "    elif choice==3:\n",
    "        a.view_balance()\n",
    "    else:\n",
    "        break"
   ]
  },
  {
   "cell_type": "code",
   "execution_count": null,
   "id": "decf8261",
   "metadata": {},
   "outputs": [],
   "source": []
  }
 ],
 "metadata": {
  "kernelspec": {
   "display_name": "Python 3 (ipykernel)",
   "language": "python",
   "name": "python3"
  },
  "language_info": {
   "codemirror_mode": {
    "name": "ipython",
    "version": 3
   },
   "file_extension": ".py",
   "mimetype": "text/x-python",
   "name": "python",
   "nbconvert_exporter": "python",
   "pygments_lexer": "ipython3",
   "version": "3.9.13"
  }
 },
 "nbformat": 4,
 "nbformat_minor": 5
}
