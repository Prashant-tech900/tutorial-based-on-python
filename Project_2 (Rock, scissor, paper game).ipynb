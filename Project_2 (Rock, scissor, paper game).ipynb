{
 "cells": [
  {
   "cell_type": "markdown",
   "id": "a8a192f8",
   "metadata": {},
   "source": [
    "# Rock,Paper & scissor Game\n",
    "Game Rule:\n",
    "1. Rock vs Paper -> Paper wins\n",
    "2. Rock vs Scissor -> Rock wins\n",
    "3. Paper vs Scissor -> Scissor wins\n",
    "4. Paper vs Paper -> Draw\n",
    "5. Rock vs Rock -> Draw\n",
    "6. Scissor vs Scissor -> Draw"
   ]
  },
  {
   "cell_type": "code",
   "execution_count": null,
   "id": "e04f9b86",
   "metadata": {},
   "outputs": [
    {
     "name": "stdout",
     "output_type": "stream",
     "text": [
      "\n",
      "    Game start\n",
      "    1 Yes\n",
      "    2 No| Exit\n",
      "    \n",
      "    1\n",
      "\n",
      "            1 Rock\n",
      "            2 Scissor\n",
      "            3 Paper\n",
      "            1\n",
      "Computer value scissor\n",
      "user value rock\n",
      "You win\n",
      "\n",
      "            1 Rock\n",
      "            2 Scissor\n",
      "            3 Paper\n",
      "            5\n",
      "Computer value rock\n",
      "user value rock\n",
      "Game Draw\n"
     ]
    }
   ],
   "source": [
    "import random\n",
    "l=[\"rock\",\"scissor\",\"paper\"]\n",
    "'''\n",
    "rock vs paper:-paper win\n",
    "rock vs scissor:-rock win\n",
    "paper vs scissor:-scissor win\n",
    "'''\n",
    "while True:\n",
    "    ccount=0\n",
    "    ucount=0\n",
    "    uc=int(input('''\n",
    "    Game start\n",
    "    1 Yes\n",
    "    2 No| Exit\n",
    "    \n",
    "    '''))\n",
    "    if uc==1:\n",
    "        for a in range(1,6):\n",
    "            userInput=int(input('''\n",
    "            1 Rock\n",
    "            2 Scissor\n",
    "            3 Paper\n",
    "            '''))\n",
    "            if userInput==1:\n",
    "                uchoice=\"rock\"\n",
    "            elif userInput==2:\n",
    "                uchoice=\"scissor\"\n",
    "            elif userInput==3:\n",
    "                uchoice=\"paper\"\n",
    "            Cchoice=random.choice(l)\n",
    "            if Cchoice==uchoice:\n",
    "                print(\"Computer value\",Cchoice)\n",
    "                print(\"user value\",uchoice)\n",
    "                print(\"Game Draw\")\n",
    "                ucount+=1\n",
    "                ccount+=1\n",
    "            elif (uchoice==\"rock\" and Cchoice==\"scissor\") or (uchoice==\"paper\" and Cchoice==\"rock\") or (uchoice==\"scissor\" and Cchoice==\"paper\"):\n",
    "                print(\"Computer value\",Cchoice)\n",
    "                print(\"user value\",uchoice)\n",
    "                print(\"You win\")\n",
    "                ucount+=1\n",
    "            else:\n",
    "                print(\"Computer value\",Cchoice)\n",
    "                print(\"user value\",uchoice)\n",
    "                print(\"Computer win\")\n",
    "                ucount+=1\n",
    "                ccount+=1\n",
    "        if ucount==ccount:\n",
    "            print(\"Final Game Draw...\")\n",
    "            print(\"user score\",ucount)\n",
    "            print(\"computer score\",ccount)\n",
    "        elif ucount>ccount:\n",
    "            print(\"Fianl You win the Game... \")\n",
    "            print(\"user score\",ucount)\n",
    "            print(\"computer score\",ccount)\n",
    "        else:\n",
    "            print(\"Fianl computer win the Game... \")\n",
    "            print(\"user score\",ucount)\n",
    "            print(\"computer score\",ccount)\n",
    "            \n",
    "    else:\n",
    "        break"
   ]
  },
  {
   "cell_type": "code",
   "execution_count": null,
   "id": "fc6d0bfb",
   "metadata": {},
   "outputs": [],
   "source": []
  }
 ],
 "metadata": {
  "kernelspec": {
   "display_name": "Python 3 (ipykernel)",
   "language": "python",
   "name": "python3"
  },
  "language_info": {
   "codemirror_mode": {
    "name": "ipython",
    "version": 3
   },
   "file_extension": ".py",
   "mimetype": "text/x-python",
   "name": "python",
   "nbconvert_exporter": "python",
   "pygments_lexer": "ipython3",
   "version": "3.9.13"
  }
 },
 "nbformat": 4,
 "nbformat_minor": 5
}
