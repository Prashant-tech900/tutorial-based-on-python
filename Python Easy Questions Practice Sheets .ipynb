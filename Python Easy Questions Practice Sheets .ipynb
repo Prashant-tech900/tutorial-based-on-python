{
 "cells": [
  {
   "cell_type": "markdown",
   "id": "af9b9567",
   "metadata": {},
   "source": [
    "# Conditional Statements"
   ]
  },
  {
   "cell_type": "markdown",
   "id": "a6dab872",
   "metadata": {},
   "source": [
    "1. Write a Python program to check if a number is divisible by both 2 and 3."
   ]
  },
  {
   "cell_type": "code",
   "execution_count": 11,
   "id": "10c307d1",
   "metadata": {},
   "outputs": [
    {
     "name": "stdout",
     "output_type": "stream",
     "text": [
      "Enter the digits:- 10\n",
      "These Digits Are divisible with 2 only:-  10\n"
     ]
    }
   ],
   "source": [
    "x=int(input(\"Enter the digits:- \"))\n",
    "if x%2==0 and x%3==0:\n",
    "    print(\"These Digits Are divisible with both 2 and 3 :- \",x)\n",
    "elif x%2==0 :\n",
    "    print(\"These Digits Are divisible with 2 only:- \",x)\n",
    "elif x%3==0:\n",
    "    print(\"These Digits Are divisible with 3 only:- \",x)\n",
    "else:\n",
    "    print(\"not divisible with both:- \",x)"
   ]
  },
  {
   "cell_type": "markdown",
   "id": "e60184b6",
   "metadata": {},
   "source": [
    "2. Create a program that determines the grade based on a given score: 90 and above is an \"A,\" 80-89 is a \"B,\" and so on."
   ]
  },
  {
   "cell_type": "code",
   "execution_count": 12,
   "id": "e136f77a",
   "metadata": {},
   "outputs": [
    {
     "name": "stdout",
     "output_type": "stream",
     "text": [
      "enter the marks/score obtain by student:- 98\n",
      "congratulations you achieve grate:- 'A+'\n"
     ]
    }
   ],
   "source": [
    "score=int(input(\"enter the marks/score obtain by student:- \"))\n",
    "if score >=90:\n",
    "    print(\"congratulations you achieve grate:- 'A+'\")\n",
    "elif score >= 80 and score <=89 :\n",
    "    print(\"congratulations you achieve grate:- 'A'\")\n",
    "elif score >= 70 and score <=79 :\n",
    "    print(\"congratulations you achieve grate:- 'B+'\")\n",
    "elif score >= 60 and score <=69 :\n",
    "    print(\"congratulations you achieve grate:- 'B'\")\n",
    "elif score >= 50 and score <=59 :\n",
    "    print(\"congratulations you achieve grate:- 'C+'\")\n",
    "elif score >= 40 and score <=49 :\n",
    "    print(\"congratulations you achieve grate:- 'D'\")\n",
    "else:\n",
    "    print(\"ohh!, you fail in examination🤦‍♂️\")"
   ]
  },
  {
   "cell_type": "markdown",
   "id": "cfd18e60",
   "metadata": {},
   "source": [
    "3. Write a Python program that checks if a year is a leap year and a multiple of 10."
   ]
  },
  {
   "cell_type": "code",
   "execution_count": 13,
   "id": "8aad3e72",
   "metadata": {},
   "outputs": [
    {
     "name": "stdout",
     "output_type": "stream",
     "text": [
      "Enter a year: 2021\n",
      "2021 is not a leap year\n"
     ]
    }
   ],
   "source": [
    "year = int(input(\"Enter a year: \"))\n",
    "\n",
    "# divided by 100 means century year (ending with 00)\n",
    "# century year divided by 400 is leap year\n",
    "if (year % 400 == 0) and (year % 100 == 0):\n",
    "    print(\"{0} is a leap year\".format(year))\n",
    "\n",
    "# not divided by 100 means not a century year\n",
    "# year divided by 4 is a leap year\n",
    "elif (year % 4 == 0) and (year % 100 != 0):\n",
    "    print(\"{0} is a leap year\".format(year))\n",
    "\n",
    "# if not divided by both 400 (century year) and 4 (not century year)\n",
    "# year is not leap year\n",
    "else:\n",
    "    print(\"{0} is not a leap year\".format(year))"
   ]
  },
  {
   "cell_type": "markdown",
   "id": "17817620",
   "metadata": {},
   "source": [
    "4. Create a program that determines the largest of four numbers using conditional statements"
   ]
  },
  {
   "cell_type": "code",
   "execution_count": 14,
   "id": "85c582aa",
   "metadata": {},
   "outputs": [
    {
     "name": "stdout",
     "output_type": "stream",
     "text": [
      "Enter first number: 10\n",
      "Enter second number: 15\n",
      "Enter third number: 56\n",
      "Enter third number: 610\n",
      "The largest number is:- 610\n"
     ]
    }
   ],
   "source": [
    "num1 = eval(input(\"Enter first number: \"))\n",
    "num2 = eval(input(\"Enter second number: \"))\n",
    "num3 = eval(input(\"Enter third number: \"))\n",
    "num4 = eval(input(\"Enter third number: \"))\n",
    "\n",
    "if (num1 >= num2) and (num1 >= num3) and (num1 >= num4):\n",
    "    largest = num1\n",
    "elif (num2 >= num1) and (num2 >= num3) and (num2>=num4):\n",
    "    largest = num2\n",
    "elif (num3>=num1) and (num3>=num2) and (num3>=num4):\n",
    "    largest = num3\n",
    "else:\n",
    "    largest = num4\n",
    "\n",
    "print(\"The largest number is:-\", largest)\n"
   ]
  },
  {
   "cell_type": "markdown",
   "id": "45bf7263",
   "metadata": {},
   "source": [
    "5. Write a program that checks if a given string is a palindrome using a case-insensitive comparison."
   ]
  },
  {
   "cell_type": "code",
   "execution_count": 18,
   "id": "816edd5b",
   "metadata": {},
   "outputs": [
    {
     "name": "stdout",
     "output_type": "stream",
     "text": [
      "enter any sting values:- madam\n",
      "this a palindrome string madam\n"
     ]
    }
   ],
   "source": [
    "user_input = input(\"enter any sting values:- \")\n",
    "revarse_values = user_input[::-1]\n",
    "if user_input== revarse_values:\n",
    "    print(\"this a palindrome string\", user_input)\n",
    "else:\n",
    "    print(\"this is not a palindrome string\",user_input)\n",
    "    "
   ]
  },
  {
   "cell_type": "markdown",
   "id": "d61b1c77",
   "metadata": {},
   "source": [
    "6. Create a Python program that categorizes a given age into \"child,\" \"teenager,\" or \"adult.\""
   ]
  },
  {
   "cell_type": "code",
   "execution_count": 19,
   "id": "c5399dbb",
   "metadata": {},
   "outputs": [
    {
     "name": "stdout",
     "output_type": "stream",
     "text": [
      "enter your age:- 21\n",
      "you are a adult\n"
     ]
    }
   ],
   "source": [
    "gen = int(input(\"enter your age:- \"))\n",
    "if gen>=0 and gen<=15:\n",
    "    print(\"you are a child\")\n",
    "elif gen>=16 and gen<=18:\n",
    "    print(\"you are a teenager\")\n",
    "elif gen>=19 and gen<=40:\n",
    "    print(\"you are a adult\")\n",
    "else:\n",
    "    print(\"you are being old\")\n",
    "    "
   ]
  },
  {
   "cell_type": "markdown",
   "id": "d10a13d4",
   "metadata": {},
   "source": [
    "7. Write a program that determines the discount based on the pucheses amount: 10% off for purchases above ₹100 and 20% off for purchases above ₹200. "
   ]
  },
  {
   "cell_type": "code",
   "execution_count": 20,
   "id": "68a74df0",
   "metadata": {},
   "outputs": [
    {
     "name": "stdout",
     "output_type": "stream",
     "text": [
      "enter your purchases amount for max discount:- 1200\n",
      "your dertermining discount is :-  960.0 your discount is:- 240.0\n"
     ]
    }
   ],
   "source": [
    "pur = int(input(\"enter your purchases amount for max discount:- \"))\n",
    "if pur>=100 and pur<=199:\n",
    "    print(\"your dertermining discount is :- \", pur-(pur*0.1),\"your discount is:-\",(pur*0.1))\n",
    "elif pur>200 :\n",
    "    print (\"your dertermining discount is :- \", pur-(pur*0.2),\"your discount is:-\",(pur*0.2))\n",
    "else:\n",
    "    print(\"your purchases amount is not sufficient for discount:- \",pur)"
   ]
  },
  {
   "cell_type": "markdown",
   "id": "b185c10c",
   "metadata": {},
   "source": [
    "8. Create a program that checks if a number is positive, negative, or zero, using if-else statements."
   ]
  },
  {
   "cell_type": "code",
   "execution_count": 21,
   "id": "85ab6426",
   "metadata": {},
   "outputs": [
    {
     "name": "stdout",
     "output_type": "stream",
     "text": [
      "enter any digits: -120\n",
      "it's  negative digits -120\n"
     ]
    }
   ],
   "source": [
    "x=int(input(\"enter any digits: \"))\n",
    "if x>0:\n",
    "    print(\"it's positive digits\",x)\n",
    "elif x==0:\n",
    "    print(\"it's a zero digits\",x)\n",
    "else :\n",
    "    print(\"it's  negative digits\",x)"
   ]
  },
  {
   "cell_type": "markdown",
   "id": "1f0863fa",
   "metadata": {},
   "source": [
    "9. Write a Python program that calculates the tax based on income: 10% tax for income below ₹50,000, and 20% tax for income above ₹50,000."
   ]
  },
  {
   "cell_type": "code",
   "execution_count": 22,
   "id": "66c5f84a",
   "metadata": {},
   "outputs": [
    {
     "name": "stderr",
     "output_type": "stream",
     "text": [
      "<>:5: SyntaxWarning: 'str' object is not callable; perhaps you missed a comma?\n",
      "<>:5: SyntaxWarning: 'str' object is not callable; perhaps you missed a comma?\n"
     ]
    },
    {
     "name": "stdout",
     "output_type": "stream",
     "text": [
      "entre any digits:- 12053\n",
      "your tax is: 1205.3 your remain balance after paid tex is: 10847.7\n"
     ]
    },
    {
     "name": "stderr",
     "output_type": "stream",
     "text": [
      "C:\\Users\\PRASHANT\\AppData\\Local\\Temp\\ipykernel_15840\\804049160.py:5: SyntaxWarning: 'str' object is not callable; perhaps you missed a comma?\n",
      "  print(\"your tax is\"(a*.2),\"your remain balance after paid tex is:\",a-(a*.2))\n"
     ]
    }
   ],
   "source": [
    "a = int(input('entre any digits:- '))\n",
    "if a<50000:\n",
    "    print(\"your tax is:\",(a*.1),\"your remain balance after paid tex is:\",a-(a*.1))\n",
    "elif a>50000:\n",
    "    print(\"your tax is\"(a*.2),\"your remain balance after paid tex is:\",a-(a*.2))"
   ]
  },
  {
   "cell_type": "markdown",
   "id": "e559028a",
   "metadata": {},
   "source": [
    "10. Create a program that checks if a given string contains any special characters."
   ]
  },
  {
   "cell_type": "code",
   "execution_count": 23,
   "id": "a3f3ca0f",
   "metadata": {},
   "outputs": [
    {
     "name": "stdout",
     "output_type": "stream",
     "text": [
      "enter any string:- prashantverma02020@gmail.com\n",
      "The string including special characters:- prashantverma02020@gmail.com\n"
     ]
    }
   ],
   "source": [
    "x=input(\"enter any string:- \")\n",
    "l=0\n",
    "for i in x:\n",
    "    if i.isalnum():\n",
    "        pass\n",
    "    elif i.isspace():\n",
    "        pass\n",
    "    else:\n",
    "        l+=1\n",
    "if l>0:\n",
    "    print(\"The string including special characters:-\",x)\n",
    "else:\n",
    "    print(\"The string not including with special charcters:-\",x)\n",
    "            "
   ]
  },
  {
   "cell_type": "markdown",
   "id": "adc9d0b0",
   "metadata": {},
   "source": [
    "# LOOPs"
   ]
  },
  {
   "cell_type": "markdown",
   "id": "c2024fd9",
   "metadata": {},
   "source": [
    "1. Write a program that prints the sum of all numbers from 1 to 100 using a loop."
   ]
  },
  {
   "cell_type": "code",
   "execution_count": 24,
   "id": "6d718d88",
   "metadata": {},
   "outputs": [
    {
     "name": "stdout",
     "output_type": "stream",
     "text": [
      "5050\n"
     ]
    }
   ],
   "source": [
    "sum=0\n",
    "for i in range(1,101):\n",
    "    sum+=i\n",
    "print(sum)"
   ]
  },
  {
   "cell_type": "markdown",
   "id": "cf1ec46f",
   "metadata": {},
   "source": [
    "2. Create a Python program that prints the multiplication table of a given number using a while loop."
   ]
  },
  {
   "cell_type": "code",
   "execution_count": 27,
   "id": "2e0fdc7f",
   "metadata": {},
   "outputs": [
    {
     "name": "stdout",
     "output_type": "stream",
     "text": [
      "enter any digit to print table:- 3\n",
      "3 * 1 = 3\n",
      "3 * 2 = 6\n",
      "3 * 3 = 9\n",
      "3 * 4 = 12\n",
      "3 * 5 = 15\n",
      "3 * 6 = 18\n",
      "3 * 7 = 21\n",
      "3 * 8 = 24\n",
      "3 * 9 = 27\n",
      "3 * 10 = 30\n"
     ]
    }
   ],
   "source": [
    "i=1\n",
    "n= int(input(\"enter any digit to print table:- \"))\n",
    "while i<=10:\n",
    "    print(n,'*',i,'=',n*i)\n",
    "    i+=1"
   ]
  },
  {
   "cell_type": "markdown",
   "id": "30cd7be5",
   "metadata": {},
   "source": [
    "3. Write a program that finds the factorial of a given number using a for loop."
   ]
  },
  {
   "cell_type": "code",
   "execution_count": 28,
   "id": "ad7e7d83",
   "metadata": {},
   "outputs": [
    {
     "name": "stdout",
     "output_type": "stream",
     "text": [
      "enter digits u wish to get factorial:-6\n",
      "The factorial of 6 is 720\n"
     ]
    }
   ],
   "source": [
    "num=int(input(\"enter digits u wish to get factorial:-\"))\n",
    "factorial=1\n",
    "for i in range(1,num + 1):\n",
    "    factorial = factorial*i\n",
    "print(\"The factorial of\",num,\"is\",factorial)"
   ]
  },
  {
   "cell_type": "markdown",
   "id": "185c9f4c",
   "metadata": {},
   "source": [
    "4. Create a program that checks if a number is prime using a while loop."
   ]
  },
  {
   "cell_type": "code",
   "execution_count": 29,
   "id": "28e8a8b6",
   "metadata": {},
   "outputs": [
    {
     "name": "stdout",
     "output_type": "stream",
     "text": [
      "Enter a number ( greater than 1):- 19\n",
      "The entered number is a PRIME number\n"
     ]
    }
   ],
   "source": [
    "num = int(input(\"Enter a number ( greater than 1):- \"))  \n",
    "f = 0\n",
    "i = 2\n",
    "while i <= num / 2:\n",
    "    if num % i == 0:\n",
    "        f=1\n",
    "        break\n",
    "    i=i+1\n",
    "    \n",
    "if f==0:\n",
    "    print(\"The entered number is a PRIME number\")\n",
    "else:\n",
    "    print(\"The entered number is not a PRIME number\")"
   ]
  },
  {
   "cell_type": "markdown",
   "id": "94b658fe",
   "metadata": {},
   "source": [
    "5. Write a Python program that counts the number of even and odd numbers in a given list using a for loop."
   ]
  },
  {
   "cell_type": "code",
   "execution_count": 30,
   "id": "af14ab0f",
   "metadata": {},
   "outputs": [
    {
     "name": "stdout",
     "output_type": "stream",
     "text": [
      "odd number 1\n",
      "even number 2\n",
      "odd number 3\n",
      "even number 4\n",
      "odd number 5\n",
      "even number 6\n",
      "odd number 7\n",
      "even number 8\n",
      "odd number 9\n",
      "even number 10\n"
     ]
    }
   ],
   "source": [
    "# p= int(input(\"enter number:- \"))\n",
    "p=[2,4,9,6,3,5,96,24,23,52,20,21]\n",
    "for p in range(1,11) :\n",
    "    if p%2==0:\n",
    "        print(\"even number\",p)\n",
    "    else:\n",
    "        print(\"odd number\",p)"
   ]
  },
  {
   "cell_type": "markdown",
   "id": "9d364e30",
   "metadata": {},
   "source": [
    "6. Create a program that prints the reverse of a given list using a while loop."
   ]
  },
  {
   "cell_type": "code",
   "execution_count": 31,
   "id": "6a6fcd6b",
   "metadata": {},
   "outputs": [
    {
     "name": "stdout",
     "output_type": "stream",
     "text": [
      "[7, 6, 5, 4, 3, 2, 1]\n"
     ]
    }
   ],
   "source": [
    "l = [1,2,3,4,5,6,7]\n",
    "new_list = []\n",
    "start = len(l)-1\n",
    "while start>-1:\n",
    "    new_list.append(l[start])\n",
    "    start-=1   \n",
    "print(new_list)"
   ]
  },
  {
   "cell_type": "markdown",
   "id": "b63899b2",
   "metadata": {},
   "source": [
    "7. Write a program that prints all the uppercase letters in a given string using a for loop."
   ]
  },
  {
   "cell_type": "code",
   "execution_count": 32,
   "id": "eee22aa1",
   "metadata": {},
   "outputs": [
    {
     "name": "stdout",
     "output_type": "stream",
     "text": [
      "hello mr. prashu\n",
      "HELLO MR. PRASHU\n"
     ]
    }
   ],
   "source": [
    "x=input()\n",
    "p=\"\"\n",
    "for i in x:\n",
    "    p+=i.upper()\n",
    "print(p)"
   ]
  },
  {
   "cell_type": "markdown",
   "id": "13d58575",
   "metadata": {},
   "source": [
    "8. Create a Python program that calculates the sum of all numbers divisible by 7 between 1 and 100 using a while loop"
   ]
  },
  {
   "cell_type": "code",
   "execution_count": 33,
   "id": "d76345ee",
   "metadata": {},
   "outputs": [
    {
     "name": "stdout",
     "output_type": "stream",
     "text": [
      "735\n"
     ]
    }
   ],
   "source": [
    "sum=0\n",
    "for i in range(1,101):\n",
    "    if i%7==0: \n",
    "        sum+=i\n",
    "print(sum)"
   ]
  },
  {
   "cell_type": "markdown",
   "id": "893a2bc1",
   "metadata": {},
   "source": [
    "9. Write a program that finds the average of a list of numbers using a for loop."
   ]
  },
  {
   "cell_type": "code",
   "execution_count": 34,
   "id": "40dd9d9f",
   "metadata": {},
   "outputs": [
    {
     "name": "stdout",
     "output_type": "stream",
     "text": [
      "40.63636363636363\n"
     ]
    }
   ],
   "source": [
    "sum = 0\n",
    "l=[10,21,32,56,40,61,79,54,25,14,55]\n",
    "for i in l:\n",
    "    sum +=i\n",
    "print(sum/len(l))"
   ]
  },
  {
   "cell_type": "markdown",
   "id": "06f20af6",
   "metadata": {},
   "source": [
    "10. Create a program that checks if a given string is a palindrome using a while loop."
   ]
  },
  {
   "cell_type": "code",
   "execution_count": null,
   "id": "fe31bae2",
   "metadata": {},
   "outputs": [],
   "source": []
  },
  {
   "cell_type": "markdown",
   "id": "ed31e3eb",
   "metadata": {},
   "source": [
    "# Strings"
   ]
  },
  {
   "cell_type": "markdown",
   "id": "d466a886",
   "metadata": {},
   "source": [
    "1. Write a Python program that counts the number of occurrences of a specific character in a given string."
   ]
  },
  {
   "cell_type": "code",
   "execution_count": 35,
   "id": "6a57f04f",
   "metadata": {},
   "outputs": [
    {
     "name": "stdout",
     "output_type": "stream",
     "text": [
      "2\n"
     ]
    }
   ],
   "source": [
    "count = 0\n",
    "\n",
    "my_string = \"Programiz\"\n",
    "my_char = \"r\"\n",
    "\n",
    "for i in my_string:\n",
    "    if i == my_char:\n",
    "        count += 1\n",
    "\n",
    "print(count)"
   ]
  },
  {
   "cell_type": "markdown",
   "id": "370453b8",
   "metadata": {},
   "source": [
    "2. Create a program that checks if a string is a pangram (contains all the letters of the alphabet)."
   ]
  },
  {
   "cell_type": "code",
   "execution_count": 36,
   "id": "54bb4f56",
   "metadata": {},
   "outputs": [
    {
     "name": "stdout",
     "output_type": "stream",
     "text": [
      "Yes\n"
     ]
    }
   ],
   "source": [
    "import string\n",
    "def ispangram(str):\n",
    "   alphabet = \"abcdefghijklmnopqrstuvwxyz\"\n",
    "   for char in alphabet:\n",
    "    if char not in str.lower():\n",
    "        return False\n",
    "    return True\n",
    "# main\n",
    "string = 'The five boxing wizards jump quickly.'\n",
    "if(ispangram(string) == True):\n",
    "   print(\"Yes\")\n",
    "else:\n",
    "   print(\"No\")"
   ]
  },
  {
   "cell_type": "markdown",
   "id": "90f9a6d4",
   "metadata": {},
   "source": [
    "3. Write a Python program that checks if two strings are anagrams."
   ]
  },
  {
   "cell_type": "code",
   "execution_count": 38,
   "id": "a4467eb8",
   "metadata": {},
   "outputs": [
    {
     "name": "stdout",
     "output_type": "stream",
     "text": [
      "Enter first string: hello\n",
      "Enter second string: world\n",
      "The strings aren't anagrams.\n"
     ]
    }
   ],
   "source": [
    "s1=input(\"Enter first string: \") \n",
    "s2=input(\"Enter second string: \") \n",
    "if(sorted(s1)==sorted(s2)): \n",
    "    print(\"The strings are anagrams.\") \n",
    "else: \n",
    "    print(\"The strings aren't anagrams.\")"
   ]
  },
  {
   "cell_type": "markdown",
   "id": "98bb7b68",
   "metadata": {},
   "source": [
    "4. Create a program that converts a string to title case (each word starts with a capital letter)."
   ]
  },
  {
   "cell_type": "code",
   "execution_count": 39,
   "id": "fd02fd79",
   "metadata": {},
   "outputs": [
    {
     "name": "stdout",
     "output_type": "stream",
     "text": [
      "enter a paragraph: pojhvjgfdfghbv\n",
      "Pojhvjgfdfghbv\n"
     ]
    }
   ],
   "source": [
    "a = input(\"enter a paragraph: \")\n",
    "p=a.title()\n",
    "print(p)"
   ]
  },
  {
   "cell_type": "markdown",
   "id": "a0297db6",
   "metadata": {},
   "source": [
    "5. Write a program that finds the length of the longest word in a given sentence."
   ]
  },
  {
   "cell_type": "code",
   "execution_count": 40,
   "id": "ad897056",
   "metadata": {},
   "outputs": [
    {
     "name": "stdout",
     "output_type": "stream",
     "text": [
      "67\n"
     ]
    }
   ],
   "source": [
    "x = \"WsCube Tech, Laxmi Tower, Bhaskar Circle, Jodhpur, Rajasthan, India\"\n",
    "p = len(x)\n",
    "print(p)"
   ]
  },
  {
   "cell_type": "markdown",
   "id": "b3fcb577",
   "metadata": {},
   "source": [
    "6. Create a Python program that replaces all occurrences of a specific word in a string with another word."
   ]
  },
  {
   "cell_type": "code",
   "execution_count": 41,
   "id": "7dbbff45",
   "metadata": {},
   "outputs": [
    {
     "name": "stdout",
     "output_type": "stream",
     "text": [
      "modified starting : \n",
      "$md$ni $th$ni kh$rch$ rup$iy$.\n"
     ]
    }
   ],
   "source": [
    "str = 'Amdani athani kharcha rupaiya.'\n",
    "modified_str = ''\n",
    "for char in range(0, len(str)):\n",
    "    if (str[char] == 'a'or str[char] == \"A\"):\n",
    "        modified_str += \"$\"\n",
    "    else:\n",
    "        modified_str += str[char]\n",
    "print(\"modified starting : \")\n",
    "print(modified_str)"
   ]
  },
  {
   "cell_type": "markdown",
   "id": "db06d7cd",
   "metadata": {},
   "source": [
    "7. Write a program that checks if a string is a valid URL."
   ]
  },
  {
   "cell_type": "code",
   "execution_count": 42,
   "id": "a121bca7",
   "metadata": {},
   "outputs": [
    {
     "ename": "ModuleNotFoundError",
     "evalue": "No module named 'validators'",
     "output_type": "error",
     "traceback": [
      "\u001b[1;31m---------------------------------------------------------------------------\u001b[0m",
      "\u001b[1;31mModuleNotFoundError\u001b[0m                       Traceback (most recent call last)",
      "\u001b[1;32m~\\AppData\\Local\\Temp\\ipykernel_15840\\3528704804.py\u001b[0m in \u001b[0;36m<module>\u001b[1;34m\u001b[0m\n\u001b[1;32m----> 1\u001b[1;33m \u001b[1;32mimport\u001b[0m \u001b[0mvalidators\u001b[0m\u001b[1;33m\u001b[0m\u001b[1;33m\u001b[0m\u001b[0m\n\u001b[0m\u001b[0;32m      2\u001b[0m \u001b[0mvalid\u001b[0m\u001b[1;33m=\u001b[0m\u001b[0mvalidators\u001b[0m\u001b[1;33m.\u001b[0m\u001b[0murl\u001b[0m\u001b[1;33m(\u001b[0m\u001b[1;34m'https//www.codespeedy.com/'\u001b[0m\u001b[1;33m)\u001b[0m\u001b[1;33m\u001b[0m\u001b[1;33m\u001b[0m\u001b[0m\n\u001b[0;32m      3\u001b[0m \u001b[1;32mif\u001b[0m \u001b[0mvalid\u001b[0m\u001b[1;33m==\u001b[0m\u001b[1;32mTrue\u001b[0m\u001b[1;33m:\u001b[0m\u001b[1;33m\u001b[0m\u001b[1;33m\u001b[0m\u001b[0m\n\u001b[0;32m      4\u001b[0m     \u001b[0mprint\u001b[0m\u001b[1;33m(\u001b[0m\u001b[1;34m\"url is valid\"\u001b[0m\u001b[1;33m)\u001b[0m\u001b[1;33m\u001b[0m\u001b[1;33m\u001b[0m\u001b[0m\n\u001b[0;32m      5\u001b[0m \u001b[1;32melse\u001b[0m\u001b[1;33m:\u001b[0m\u001b[1;33m\u001b[0m\u001b[1;33m\u001b[0m\u001b[0m\n",
      "\u001b[1;31mModuleNotFoundError\u001b[0m: No module named 'validators'"
     ]
    }
   ],
   "source": [
    "import validators\n",
    "valid=validators.url('https//www.codespeedy.com/')\n",
    "if valid==True:\n",
    "    print(\"url is valid\")\n",
    "else:\n",
    "    print(\"Invalis url\")"
   ]
  },
  {
   "cell_type": "markdown",
   "id": "a40b0e1c",
   "metadata": {},
   "source": [
    "8. Create a program that finds the most common character in a given string."
   ]
  },
  {
   "cell_type": "code",
   "execution_count": 43,
   "id": "c1612939",
   "metadata": {},
   "outputs": [
    {
     "name": "stdout",
     "output_type": "stream",
     "text": [
      "enter string:-aaalaskisjjsxxxsx\n",
      "Counter({'a': 4, 's': 4, 'x': 4, 'j': 2, 'l': 1, 'k': 1, 'i': 1})\n"
     ]
    }
   ],
   "source": [
    "from collections import Counter\n",
    "string = input(\"enter string:-\")\n",
    "counter = Counter(string)\n",
    "print(counter)  # 👉️ Counter({'a': 3, 'b': 2, 'c': 1})"
   ]
  },
  {
   "cell_type": "markdown",
   "id": "cef60bbe",
   "metadata": {},
   "source": [
    "9. Write a Python program that checks if a string starts and ends with the same character."
   ]
  },
  {
   "cell_type": "code",
   "execution_count": null,
   "id": "86109570",
   "metadata": {},
   "outputs": [],
   "source": []
  },
  {
   "cell_type": "markdown",
   "id": "7d2c50c9",
   "metadata": {},
   "source": [
    "10. Create a program that reverses the order of words in a given sentence."
   ]
  },
  {
   "cell_type": "code",
   "execution_count": null,
   "id": "d18a6f2d",
   "metadata": {},
   "outputs": [],
   "source": []
  }
 ],
 "metadata": {
  "kernelspec": {
   "display_name": "Python 3 (ipykernel)",
   "language": "python",
   "name": "python3"
  },
  "language_info": {
   "codemirror_mode": {
    "name": "ipython",
    "version": 3
   },
   "file_extension": ".py",
   "mimetype": "text/x-python",
   "name": "python",
   "nbconvert_exporter": "python",
   "pygments_lexer": "ipython3",
   "version": "3.9.13"
  }
 },
 "nbformat": 4,
 "nbformat_minor": 5
}
